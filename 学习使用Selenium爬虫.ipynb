{
 "cells": [
  {
   "cell_type": "markdown",
   "id": "58a9fe9e-124b-4bcb-a7d8-525cff5e2112",
   "metadata": {},
   "source": [
    " **目录：** \n",
    "1、笔记\n",
    "2、概括\n",
    "3、知识点\n",
    "4、代码\n",
    "5、错误代码展示\n",
    "6、参考\n",
    "\n",
    "### 1 笔记\n",
    "\n",
    "· get方法会一直等到页面被完全加载，然后才会继续程序，可加time.sleep(2)\n",
    "· By.CSS_SELECTOR 是用于指定元素定位策略的一个参数\n",
    "· master > ... > img' 是一个CSS选择器，用于定位页面中的一个特定的元素\n",
    "\n",
    "### 2 概括\n",
    "\n",
    "Selenium是一个Web的自动化测试工具，最初是为网站自动化测试而开发的，Selenium 可以直接运行在浏览器上，它支持所有主流的浏览器。（可控制浏览器发送请求，并获取网页数据）\n",
    "Selenium 可以根据我们的指令，让浏览器自动加载页面，获取需要的数据，甚至页面截屏，或者判断网站上某些动作是否发生。\n"
   ]
  },
  {
   "cell_type": "markdown",
   "id": "8c51821e-9e82-4fdc-919c-6e9264fff4fb",
   "metadata": {},
   "source": [
    "### 3 知识点"
   ]
  },
  {
   "cell_type": "markdown",
   "id": "c5485ea5-78cb-41db-85b8-4df6eedf277e",
   "metadata": {},
   "source": [
    "** 3.1 内容获取** "
   ]
  },
  {
   "cell_type": "markdown",
   "id": "6efdc3a0-c38d-40ee-8439-6ac0ea3aa7ae",
   "metadata": {},
   "source": [
    "|代码|\t用途|\n",
    "|---|---|\n",
    "|size|\t返回元素大小|\n",
    "|text|\t获取元素的文本<div>hello</div>|\n",
    "|title|\t获取页面title|\n",
    "|current_url|\t获取当前页面URL|\n",
    "|get_attribute()|\t获取属性值 |\n",
    "|is_display()\t|判断元素是否可见|\n",
    "|is_enabled()|\t判断元素是否可用|"
   ]
  },
  {
   "cell_type": "markdown",
   "id": "39b9d7de-4c00-4075-8190-a8d4cd97031f",
   "metadata": {},
   "source": [
    "————————————————"
   ]
  },
  {
   "cell_type": "markdown",
   "id": "a727bb79-7731-4f3e-86fe-c4754aa6184a",
   "metadata": {},
   "source": [
    " **3.2 窗口操作** "
   ]
  },
  {
   "cell_type": "markdown",
   "id": "2de75c27-3de6-4e91-ab12-75f9697c3a12",
   "metadata": {},
   "source": [
    "|代码|\t用途|\n",
    "|---|---|\n",
    "|maximize_window()|\t最大化 --> 模拟浏览器最大化按钮|\n",
    "|set_window_size(100,100)|\t浏览器大小 --> 设置浏览器宽、高(像素点)|\n",
    "|set_window_position(300,200)\t|浏览器位置 --> 设置浏览器位置|\n",
    "|back()\t|后退 --> 模拟浏览器后退按钮|\n",
    "|forward()|\t前进 --> 模拟浏览器前进按钮|\n",
    "|refresh()|\t刷新 --> 模拟浏览器F5刷新|\n",
    "|close()|\t关闭 --> 模拟浏览器关闭按钮(关闭单个窗口)|\n",
    "|quit()\t|关闭 --> 关闭所有WebDriver启动的窗口|"
   ]
  },
  {
   "cell_type": "markdown",
   "id": "3c2cad8e-6f76-4d67-9f5b-69f10b31aeb7",
   "metadata": {},
   "source": [
    "————————————————"
   ]
  },
  {
   "cell_type": "markdown",
   "id": "886664c6-006c-4c43-8be8-75263517e7aa",
   "metadata": {},
   "source": [
    "**3.3 页面操作** "
   ]
  },
  {
   "cell_type": "markdown",
   "id": "59e1a956-155f-4f74-bca2-3acb50d21390",
   "metadata": {},
   "source": [
    "3.3.1 鼠标操作"
   ]
  },
  {
   "cell_type": "markdown",
   "id": "2683fc63-e295-46c6-9407-d84001a09be6",
   "metadata": {},
   "source": [
    "|代码|\t用途|\n",
    "|---|---|\n",
    "|context_click()|\t右击 --> 此方法模拟鼠标右键点击效果|\n",
    "|double_click()\t|双击 --> 此方法模拟双标双击效果|\n",
    "|drag_and_drop()|\t拖动 --> 此方法模拟双标拖动效果|\n",
    "|move_to_element()|\t悬停 --> 此方法模拟鼠标悬停效果|\n",
    "|perform()\t|执行 --> 此方法用来执行以上所有鼠标方法|"
   ]
  },
  {
   "cell_type": "raw",
   "id": "7aa02c1d-9a31-43f7-be79-86504669ddec",
   "metadata": {},
   "source": [
    "#代码演示:\n",
    "from selenium import webdriver\n",
    "driver.get(\"https://www.baidu.com/\")\n",
    "more = driver.find_element(By.LINK_TEXT,\"更多\")\n",
    "#将鼠标移动到更多按钮\n",
    "ActionChains(driver).move_to_element(more).perform()"
   ]
  },
  {
   "cell_type": "markdown",
   "id": "697dab07-e36d-4c4b-bb47-c6d88db83db1",
   "metadata": {},
   "source": [
    "————————————————"
   ]
  },
  {
   "cell_type": "markdown",
   "id": "7a0abba9-7370-433e-81f7-14126772f6b4",
   "metadata": {},
   "source": [
    "3.3.2 键盘操作"
   ]
  },
  {
   "cell_type": "markdown",
   "id": "b34614f8-1d02-4998-b191-d41330b240f7",
   "metadata": {},
   "source": [
    "|代码\t|快捷键|\n",
    "|---|---|\n",
    "|send_keys(Keys.BACK_SPACE)|\t删除键（BackSpace）|\n",
    "|send_keys(Keys.SPACE)\t|空格键(Space)|\n",
    "|send_keys(Keys.TAB)\t|制表键(Tab)|\n",
    "|send_keys(Keys.ESCAPE)\t|回退键（Esc）|\n",
    "|send_keys(Keys.ENTER)\t|回车键（Enter）|\n",
    "|send_keys(Keys.CONTROL,'a')\t|全选（Ctrl+A）|\n",
    "|send_keys(Keys.CONTROL,'c')|\t复制（Ctrl+C）|\n"
   ]
  },
  {
   "cell_type": "raw",
   "id": "5c9b5043-1251-4b0a-9144-ba66039f4f52",
   "metadata": {},
   "source": [
    "#代码演示：\n",
    "from selenium.webdriver.common.keys import Keys\n",
    "driver.get(\"https://www.baidu.com/\")\n",
    "element = driver.find_element(By.ID,\"kw\")\n",
    "#输入用户名\n",
    "element.send_keys(\"admin1\")\n",
    "#删除1\n",
    "element.send_keys(Keys.BACK_SPACE)\n",
    "#全选\n",
    "element.send_keys(Keys.CONTROL,'a')\n",
    "#复制\n",
    "element.send_keys(Keys.CONTROL,'c')\n",
    "#粘贴\n",
    "#element.send_keys(Keys.CONTROL,'v')\n"
   ]
  },
  {
   "cell_type": "markdown",
   "id": "9171f758-793a-43e1-97f4-a04acf2560b1",
   "metadata": {},
   "source": [
    "————————————————"
   ]
  },
  {
   "cell_type": "markdown",
   "id": "dd09c299-a57f-41a5-b6a7-370bf39aaab8",
   "metadata": {},
   "source": [
    "### 4 代码"
   ]
  },
  {
   "cell_type": "code",
   "execution_count": 11,
   "id": "3731b8e1-bed7-4028-9c5b-1dea07cb8518",
   "metadata": {},
   "outputs": [
    {
     "ename": "FileNotFoundError",
     "evalue": "[Errno 2] No such file or directory: '.../tmp/page_source.txt'",
     "output_type": "error",
     "traceback": [
      "\u001b[1;31m---------------------------------------------------------------------------\u001b[0m",
      "\u001b[1;31mFileNotFoundError\u001b[0m                         Traceback (most recent call last)",
      "Cell \u001b[1;32mIn[11], line 11\u001b[0m\n\u001b[0;32m      8\u001b[0m driver\u001b[38;5;241m.\u001b[39mget(\u001b[38;5;124m'\u001b[39m\u001b[38;5;124mhttps://www.ptpress.com.cn\u001b[39m\u001b[38;5;124m'\u001b[39m)   \n\u001b[0;32m     10\u001b[0m \u001b[38;5;66;03m#保存\u001b[39;00m\n\u001b[1;32m---> 11\u001b[0m \u001b[38;5;28;01mwith\u001b[39;00m \u001b[38;5;28;43mopen\u001b[39;49m\u001b[43m(\u001b[49m\u001b[38;5;124;43m'\u001b[39;49m\u001b[38;5;124;43m.../tmp/page_source.txt\u001b[39;49m\u001b[38;5;124;43m'\u001b[39;49m\u001b[43m,\u001b[49m\u001b[43m \u001b[49m\u001b[38;5;124;43m'\u001b[39;49m\u001b[38;5;124;43mw\u001b[39;49m\u001b[38;5;124;43m'\u001b[39;49m\u001b[43m,\u001b[49m\u001b[43m \u001b[49m\u001b[43mencoding\u001b[49m\u001b[38;5;241;43m=\u001b[39;49m\u001b[38;5;124;43m'\u001b[39;49m\u001b[38;5;124;43mutf-8\u001b[39;49m\u001b[38;5;124;43m'\u001b[39;49m\u001b[43m)\u001b[49m \u001b[38;5;28;01mas\u001b[39;00m f:  \n\u001b[0;32m     12\u001b[0m     f\u001b[38;5;241m.\u001b[39mwrite(driver\u001b[38;5;241m.\u001b[39mpage_source)\n\u001b[0;32m     14\u001b[0m windows \u001b[38;5;241m=\u001b[39m driver\u001b[38;5;241m.\u001b[39mwindow_handles         \u001b[38;5;66;03m# 当前浏览器打开的所有窗口（查找）\u001b[39;00m\n",
      "File \u001b[1;32mD:\\Python_software\\Lib\\site-packages\\IPython\\core\\interactiveshell.py:308\u001b[0m, in \u001b[0;36m_modified_open\u001b[1;34m(file, *args, **kwargs)\u001b[0m\n\u001b[0;32m    301\u001b[0m \u001b[38;5;28;01mif\u001b[39;00m file \u001b[38;5;129;01min\u001b[39;00m {\u001b[38;5;241m0\u001b[39m, \u001b[38;5;241m1\u001b[39m, \u001b[38;5;241m2\u001b[39m}:\n\u001b[0;32m    302\u001b[0m     \u001b[38;5;28;01mraise\u001b[39;00m \u001b[38;5;167;01mValueError\u001b[39;00m(\n\u001b[0;32m    303\u001b[0m         \u001b[38;5;124mf\u001b[39m\u001b[38;5;124m\"\u001b[39m\u001b[38;5;124mIPython won\u001b[39m\u001b[38;5;124m'\u001b[39m\u001b[38;5;124mt let you open fd=\u001b[39m\u001b[38;5;132;01m{\u001b[39;00mfile\u001b[38;5;132;01m}\u001b[39;00m\u001b[38;5;124m by default \u001b[39m\u001b[38;5;124m\"\u001b[39m\n\u001b[0;32m    304\u001b[0m         \u001b[38;5;124m\"\u001b[39m\u001b[38;5;124mas it is likely to crash IPython. If you know what you are doing, \u001b[39m\u001b[38;5;124m\"\u001b[39m\n\u001b[0;32m    305\u001b[0m         \u001b[38;5;124m\"\u001b[39m\u001b[38;5;124myou can use builtins\u001b[39m\u001b[38;5;124m'\u001b[39m\u001b[38;5;124m open.\u001b[39m\u001b[38;5;124m\"\u001b[39m\n\u001b[0;32m    306\u001b[0m     )\n\u001b[1;32m--> 308\u001b[0m \u001b[38;5;28;01mreturn\u001b[39;00m \u001b[43mio_open\u001b[49m\u001b[43m(\u001b[49m\u001b[43mfile\u001b[49m\u001b[43m,\u001b[49m\u001b[43m \u001b[49m\u001b[38;5;241;43m*\u001b[39;49m\u001b[43margs\u001b[49m\u001b[43m,\u001b[49m\u001b[43m \u001b[49m\u001b[38;5;241;43m*\u001b[39;49m\u001b[38;5;241;43m*\u001b[39;49m\u001b[43mkwargs\u001b[49m\u001b[43m)\u001b[49m\n",
      "\u001b[1;31mFileNotFoundError\u001b[0m: [Errno 2] No such file or directory: '.../tmp/page_source.txt'"
     ]
    }
   ],
   "source": [
    "\n",
    "\n",
    "#4.1开关及保存代码：\n",
    "#导入相关库\n",
    "from selenium import webdriver\n",
    "from selenium.webdriver.common.by import By\n",
    "\n",
    "#打开chrome浏览器并访问指定页面\n",
    "driver = webdriver.Chrome()                 \n",
    "driver.get('https://www.ptpress.com.cn')   \n",
    " \n",
    "#保存\n",
    "with open('.../tmp/page_source.txt', 'w', encoding='utf-8') as f:  \n",
    "    f.write(driver.page_source)\n",
    "\n",
    "windows = driver.window_handles         # 当前浏览器打开的所有窗口（查找）\n",
    "driver.switch_to.window(windows[0])     # 跳转至指定浏览器窗口\n",
    "#关闭浏览器\n",
    "driver.quit()\n",
    "\n",
    "\n",
    "\n",
    "#4.2 操作代码：  \n",
    "#导入相应类/模块/函数\n",
    "from selenium.webdriver.support.ui import WebDriverWait\n",
    "from selenium.webdriver.common.by import By\n",
    "from selenium.webdriver.support import expected_conditions as EC\n",
    "\n",
    "#操作1：点击操作\n",
    "#设置等待时长\n",
    "wait = WebDriverWait(driver, 10)      \n",
    "confirm_btn = wait.until(\n",
    "    EC.element_to_be_clickable(\n",
    "        (By.CSS_SELECTOR, '#master > div.list > div:nth-child(1) > div > a > div > img')\n",
    "    )\n",
    ")\n",
    "confirm_btn.click()    # 点击操作\n",
    "\n",
    "\n",
    "#操作2：填入搜索框并搜索\n",
    "search_btn = driver.find_element(By.CSS_SELECTOR, '#header > div.container > div > div.col-md-8.tools > div.search > input[type=text]')\n",
    "search_btn.send_keys('Python网络爬虫')  \n",
    "\n",
    "confirm_btn = wait.until(\n",
    "    EC.element_to_be_clickable(\n",
    "        (By.CSS_SELECTOR, '#header > div.container > div > div.col-md-8.tools > div.search > button')   # 定位按钮位置\n",
    "  )\n",
    ")\n",
    "confirm_btn.click()    # 点击操作"
   ]
  },
  {
   "cell_type": "markdown",
   "id": "934e9126-8e10-4a0e-a175-6bc3bf721597",
   "metadata": {},
   "source": [
    "### 5 错误代码展示"
   ]
  },
  {
   "cell_type": "markdown",
   "id": "b01378f2-07ca-498d-a706-0b091099c091",
   "metadata": {},
   "source": [
    "以下代码webdriver库未找到find_element_by_css_selector，因此改用BY.CSS_SELECTOR在新代码中"
   ]
  },
  {
   "cell_type": "code",
   "execution_count": null,
   "id": "e44b03c4-7119-4657-aa83-58ef2b7aa9ad",
   "metadata": {},
   "outputs": [],
   "source": [
    "'''\n",
    "search_btn = driver.find_element_by_css_selector(\n",
    "'#header > div.container > div > div.col-md-8.tools > div.search > input[type=text]'\n",
    ") search_btn.send_keys('Python网络爬虫') # 将关键字填入搜索框进行搜索\n",
    "'''"
   ]
  },
  {
   "cell_type": "markdown",
   "id": "ae916069-10ef-46f8-988a-bddd721f8361",
   "metadata": {},
   "source": [
    "### 6 参考\n"
   ]
  },
  {
   "cell_type": "markdown",
   "id": "02ba3641-f35d-4b78-8f7a-3c23ff4a9c59",
   "metadata": {},
   "source": [
    "1.知识点参考：CSDN博主「The Devil of hell」的原创文章\n",
    "\n",
    "2.代码参考：泰迪云课堂课上学习代码"
   ]
  }
 ],
 "metadata": {
  "kernelspec": {
   "display_name": "Python 3 (ipykernel)",
   "language": "python",
   "name": "python3"
  },
  "language_info": {
   "codemirror_mode": {
    "name": "ipython",
    "version": 3
   },
   "file_extension": ".py",
   "mimetype": "text/x-python",
   "name": "python",
   "nbconvert_exporter": "python",
   "pygments_lexer": "ipython3",
   "version": "3.11.5"
  }
 },
 "nbformat": 4,
 "nbformat_minor": 5
}
