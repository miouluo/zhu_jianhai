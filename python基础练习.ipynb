{
 "cells": [
  {
   "cell_type": "code",
   "execution_count": 1,
   "id": "67ce8954",
   "metadata": {},
   "outputs": [],
   "source": [
    "#导入\n",
    "import pandas as pd\n",
    "import numpy as np"
   ]
  },
  {
   "cell_type": "code",
   "execution_count": 2,
   "id": "f44ad399",
   "metadata": {},
   "outputs": [
    {
     "name": "stdout",
     "output_type": "stream",
     "text": [
      "\n"
     ]
    }
   ],
   "source": [
    "#打印输出\n",
    "print()"
   ]
  },
  {
   "cell_type": "code",
   "execution_count": 3,
   "id": "55cf01b3",
   "metadata": {},
   "outputs": [
    {
     "name": "stdout",
     "output_type": "stream",
     "text": [
      "hello world\n"
     ]
    }
   ],
   "source": [
    "#赋值/创建字符串\n",
    "first_name = \"hello world\"\n",
    "print(first_name)"
   ]
  },
  {
   "cell_type": "code",
   "execution_count": 4,
   "id": "35391046",
   "metadata": {},
   "outputs": [
    {
     "name": "stdout",
     "output_type": "stream",
     "text": [
      "1  2 1\n",
      "2\n",
      "3\n"
     ]
    }
   ],
   "source": [
    "#引号使用\n",
    "df1='1'\n",
    "df2=\" 2\"\n",
    "df3='''1\n",
    "2\n",
    "3'''\n",
    "print(df1,df2,df3)"
   ]
  },
  {
   "cell_type": "code",
   "execution_count": 5,
   "id": "1b163eee",
   "metadata": {},
   "outputs": [
    {
     "data": {
      "text/plain": [
       "'1 2'"
      ]
     },
     "execution_count": 5,
     "metadata": {},
     "output_type": "execute_result"
    }
   ],
   "source": [
    "#字符串基本操作\n",
    "#1,合并\n",
    "df1+df2"
   ]
  },
  {
   "cell_type": "code",
   "execution_count": 6,
   "id": "02c0487a",
   "metadata": {},
   "outputs": [
    {
     "data": {
      "text/plain": [
       "'111'"
      ]
     },
     "execution_count": 6,
     "metadata": {},
     "output_type": "execute_result"
    }
   ],
   "source": [
    "#2，复制字符串\n",
    "df1*3"
   ]
  },
  {
   "cell_type": "code",
   "execution_count": 7,
   "id": "64766a91",
   "metadata": {},
   "outputs": [
    {
     "data": {
      "text/plain": [
       "9"
      ]
     },
     "execution_count": 7,
     "metadata": {},
     "output_type": "execute_result"
    }
   ],
   "source": [
    "#字符串转为数值\n",
    "int('9')\n",
    "#`"
   ]
  },
  {
   "cell_type": "code",
   "execution_count": 8,
   "id": "8ff776aa",
   "metadata": {},
   "outputs": [
    {
     "name": "stdout",
     "output_type": "stream",
     "text": [
      "python\n"
     ]
    },
    {
     "data": {
      "text/plain": [
       "'p'"
      ]
     },
     "execution_count": 8,
     "metadata": {},
     "output_type": "execute_result"
    }
   ],
   "source": [
    "#字符串的索引及切片\n",
    "df1='python'\n",
    "print(df1)\n",
    "df1[0]#正序索引从0开始"
   ]
  },
  {
   "cell_type": "code",
   "execution_count": 9,
   "id": "525f33b1",
   "metadata": {},
   "outputs": [
    {
     "data": {
      "text/plain": [
       "'n'"
      ]
     },
     "execution_count": 9,
     "metadata": {},
     "output_type": "execute_result"
    }
   ],
   "source": [
    "df1[-1]#倒叙索引从-1开始"
   ]
  },
  {
   "cell_type": "code",
   "execution_count": 10,
   "id": "eed269e7",
   "metadata": {},
   "outputs": [
    {
     "data": {
      "text/plain": [
       "'pyt'"
      ]
     },
     "execution_count": 10,
     "metadata": {},
     "output_type": "execute_result"
    }
   ],
   "source": [
    "#字符串的切片的操作\n",
    "df1[0:3]#从第0个到第三个前面一个\n",
    "#[:3]从开头到第三个前面一个#[0:]从开头到最后一个值"
   ]
  },
  {
   "cell_type": "code",
   "execution_count": 11,
   "id": "ec1e944b",
   "metadata": {},
   "outputs": [
    {
     "name": "stdout",
     "output_type": "stream",
     "text": [
      "9\n"
     ]
    }
   ],
   "source": [
    "#创建字符串\n",
    "applePriceString = \"apple's unit price is 9 yuan\"\n",
    "#创建新变量\n",
    "applePrice = applePriceString[-6]\n",
    "print(applePrice)"
   ]
  },
  {
   "cell_type": "code",
   "execution_count": 12,
   "id": "308d0b62",
   "metadata": {},
   "outputs": [
    {
     "data": {
      "text/plain": [
       "str"
      ]
     },
     "execution_count": 12,
     "metadata": {},
     "output_type": "execute_result"
    }
   ],
   "source": [
    "type(applePrice)#查看数据类型"
   ]
  },
  {
   "cell_type": "code",
   "execution_count": 13,
   "id": "2690a860",
   "metadata": {},
   "outputs": [],
   "source": [
    "applePriceint = int(applePrice)#赋值 转换成整数"
   ]
  },
  {
   "cell_type": "code",
   "execution_count": 14,
   "id": "943aa025",
   "metadata": {},
   "outputs": [
    {
     "data": {
      "text/plain": [
       "int"
      ]
     },
     "execution_count": 14,
     "metadata": {},
     "output_type": "execute_result"
    }
   ],
   "source": [
    "type(applePriceint)#再次查看数值"
   ]
  },
  {
   "cell_type": "code",
   "execution_count": 17,
   "id": "f3b165c6",
   "metadata": {},
   "outputs": [],
   "source": [
    "#运算符 + - * / % ** //\n",
    "# % 取余数 22%2=2\n",
    "# ** 幂 次方 2**3=8\n",
    "#// 取除的整数 22//2=10\n",
    "#1. == 等于  #2.！=不等于  #3.><   >=   <=\n",
    "#运算符+= a+=b等效于 a=a+b"
   ]
  },
  {
   "cell_type": "code",
   "execution_count": null,
   "id": "4d081eca",
   "metadata": {},
   "outputs": [],
   "source": []
  }
 ],
 "metadata": {
  "kernelspec": {
   "display_name": "Python 3 (ipykernel)",
   "language": "python",
   "name": "python3"
  },
  "language_info": {
   "codemirror_mode": {
    "name": "ipython",
    "version": 3
   },
   "file_extension": ".py",
   "mimetype": "text/x-python",
   "name": "python",
   "nbconvert_exporter": "python",
   "pygments_lexer": "ipython3",
   "version": "3.9.12"
  }
 },
 "nbformat": 4,
 "nbformat_minor": 5
}
